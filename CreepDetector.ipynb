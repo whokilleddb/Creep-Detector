{
  "nbformat": 4,
  "nbformat_minor": 0,
  "metadata": {
    "colab": {
      "name": "CreepDetector.ipynb",
      "provenance": [],
      "collapsed_sections": [],
      "authorship_tag": "ABX9TyNA1nQlOFoHAk8MKTUkPzSf",
      "include_colab_link": true
    },
    "kernelspec": {
      "display_name": "Python 3",
      "name": "python3"
    },
    "language_info": {
      "name": "python"
    }
  },
  "cells": [
    {
      "cell_type": "markdown",
      "metadata": {
        "id": "view-in-github",
        "colab_type": "text"
      },
      "source": [
        "<a href=\"https://colab.research.google.com/github/whokilleddb/Creep-Detector/blob/main/CreepDetector.ipynb\" target=\"_parent\"><img src=\"https://colab.research.google.com/assets/colab-badge.svg\" alt=\"Open In Colab\"/></a>"
      ]
    },
    {
      "cell_type": "code",
      "metadata": {
        "id": "qAQeDln8gT12"
      },
      "source": [
        "# import libraries \n",
        "import pandas as pd\n",
        "import re\n",
        "import xml.etree.ElementTree as ET\n",
        "import os\n",
        "from math import radians, cos, sin, asin, sqrt\n",
        "from IPython.display import display\n",
        "import folium\n",
        "from google.colab import drive\n",
        "from google.colab.output import eval_js"
      ],
      "execution_count": null,
      "outputs": []
    },
    {
      "cell_type": "code",
      "metadata": {
        "id": "h_XdD8SVlIS-"
      },
      "source": [
        "# mount drive\n",
        "drive.mount('/content/gdrive')"
      ],
      "execution_count": null,
      "outputs": []
    },
    {
      "cell_type": "code",
      "metadata": {
        "id": "awPEwXMKir0V"
      },
      "source": [
        "# Read files\n",
        "tree = ET.parse('./gdrive/MyDrive/Creep-Detector/session_data/Kismet-20191011-18-31-55-1.netxml')\n",
        "gps_tree = ET.parse('./gdrive/MyDrive/Creep-Detector/session_data/Kismet-20191011-18-31-55-1.gpsxml')"
      ],
      "execution_count": null,
      "outputs": []
    },
    {
      "cell_type": "code",
      "metadata": {
        "id": "Ilpwnf4JkHhw"
      },
      "source": [
        "# Get Root Node\n",
        "root = tree.getroot()\n",
        "gps_root = gps_tree.getroot()"
      ],
      "execution_count": null,
      "outputs": []
    },
    {
      "cell_type": "code",
      "metadata": {
        "id": "JkwGYHL1ma2W"
      },
      "source": [
        "# Read Mac List and define function to return Vendor\n",
        "file = open('./gdrive/MyDrive/Creep-Detector/mac-vendors.txt', 'r', encoding=\"utf8\")\n",
        "mac_dict={}\n",
        "for line in file:\n",
        "  mac_dict[line.split('\\t')[0]]=line.split('\\t')[1].replace('\\n','')\n",
        "\n",
        "def getDeviceType(bssid): \n",
        "  return mac_dict.get(bssid[:8].upper())"
      ],
      "execution_count": null,
      "outputs": []
    },
    {
      "cell_type": "code",
      "metadata": {
        "id": "bOsKZc7Uo9TF"
      },
      "source": [
        "# haversine formula GPS coordinate distance\n",
        "def haversine(lon1, lat1, lon2, lat2): \n",
        "    lon1, lat1, lon2, lat2 = map(radians, [lon1, lat1, lon2, lat2])\n",
        "    # haversine formula \n",
        "    dlon = lon2 - lon1 \n",
        "    dlat = lat2 - lat1 \n",
        "    a = sin(dlat/2)**2 + cos(lat1) * cos(lat2) * sin(dlon/2)**2\n",
        "    c = 2 * asin(sqrt(a)) \n",
        "    r = 6371 # Radius of earth in kilometers. Use 3956 for miles. Determines return value units.\n",
        "    return c * r\n"
      ],
      "execution_count": null,
      "outputs": []
    },
    {
      "cell_type": "code",
      "metadata": {
        "id": "DJir39REpDgi"
      },
      "source": [
        "def appendArray(net, child): \n",
        "    if (child.tag == net) :\n",
        "        bssid = \"\"\n",
        "        essid = \"\"\n",
        "        encryption = [] \n",
        "        time = []\n",
        "        gps = [] \n",
        "        if net == \"wireless-network\":\n",
        "          scan = 'BSSID'\n",
        "        else:\n",
        "          scan = 'client-mac'\n",
        "\n",
        "        for bssid_tag in child.findall(scan): \n",
        "          bssid = bssid_tag.text \n",
        "        for gps_tag in child.findall(\"gps-info\"):\n",
        "            gps = [[float(gps_tag[0].text), float(gps_tag[1].text)],[float(gps_tag[4].text), float(gps_tag[5].text)]]\n",
        "        \n",
        "        time = [child.attrib['first-time'], child.attrib['last-time']]\n",
        "        \n",
        "        for ssid_tag in child.findall('SSID'):\n",
        "            for essid_tag in ssid_tag.findall('essid'): \n",
        "              essid= essid_tag.text\n",
        "            for info_tag in ssid_tag:\n",
        "              if info_tag.tag == \"encryption\":\n",
        "                encryption.append(info_tag.text)\n",
        "\n",
        "        # add individual device entry\n",
        "        StationList.append([bssid,gps,time,getDeviceType(bssid),encryption,essid])  "
      ],
      "execution_count": null,
      "outputs": []
    },
    {
      "cell_type": "code",
      "metadata": {
        "id": "QrinouetpK1x"
      },
      "source": [
        "# create array of all devices found\n",
        "StationList = [] # MAC, GPS[[min],[max]], time[[first seen],[last seen]], device type, encryption, ESSID\n",
        "for child in root:\n",
        "    appendArray(\"wireless-network\", child)\n",
        "    for subchild in child:\n",
        "        appendArray(\"wireless-client\", subchild) # client under network tag"
      ],
      "execution_count": null,
      "outputs": []
    },
    {
      "cell_type": "code",
      "metadata": {
        "id": "4sXO4fkjpOUp"
      },
      "source": [
        "# creep list with threshold of .20 km\n",
        "threshold = .20\n",
        "\n",
        "creeps=[]\n",
        "for index in range(0,len(StationList)):\n",
        "  dist = haversine(StationList[index][1][0][0],StationList[index][1][0][1],StationList[index][1][1][0],StationList[index][1][1][1])\n",
        "  if dist > threshold :\n",
        "    creeps.append(StationList[index])\n"
      ],
      "execution_count": null,
      "outputs": []
    },
    {
      "cell_type": "code",
      "metadata": {
        "id": "IDxAqS--8IIY"
      },
      "source": [
        "# remove duplicates\n",
        "unique = []\n",
        "duplicate = []\n",
        "\n",
        "for creep, i in zip(creeps, range(len(creeps))) :\n",
        "    if creep[0] not in unique: \n",
        "      unique.append(creep[0])\n",
        "    else: \n",
        "      duplicate.append(i)\n",
        "\n",
        "for index in sorted(duplicate, reverse=True): \n",
        "  del creeps[index]  "
      ],
      "execution_count": null,
      "outputs": []
    },
    {
      "cell_type": "code",
      "metadata": {
        "id": "zSgDosQJ-cld"
      },
      "source": [
        "# check source MAC\n",
        "for child in creeps : \n",
        "  for gpss in gps_root:\n",
        "    if (('source' in gpss.attrib) and gpss.attrib['source']==child[0]):\n",
        "      child[1].append([float(gpss.attrib[\"lat\"]),float(gpss.attrib[\"lon\"])])\n",
        "\n",
        "pd.DataFrame(creeps, columns=[\"BSSID\", \"GPS\",\"Dates\",\"Manufacturer\",\"Encryption\",\"ESSID\"])"
      ],
      "execution_count": null,
      "outputs": []
    },
    {
      "cell_type": "code",
      "metadata": {
        "id": "YkOsKjC4pRLt"
      },
      "source": [
        "# gather all gps points\n",
        "points=[]\n",
        "for child in gps_root: \n",
        "  if child.tag == \"gps-point\":\n",
        "    points.append([float(child.attrib['lat']),float(child.attrib['lon'])])\n",
        "\n",
        "coordinates = list(set(map(tuple,points)))"
      ],
      "execution_count": null,
      "outputs": []
    },
    {
      "cell_type": "code",
      "metadata": {
        "id": "vPjv04E3BOyG"
      },
      "source": [
        "# function to find closest point to current index and sort a path\n",
        "def findClose(loop) :\n",
        "    for iter in range(0,loop) :\n",
        "        for coord in range(0, len(coordinates)):\n",
        "            low = 10000000000000000\n",
        "            for nextc in range(coord+1, len(coordinates)):\n",
        "              distance=haversine(coordinates[coord][0],coordinates[coord][1],coordinates[nextc][0],coordinates[nextc][1]) \n",
        "              if (distance < low): # closest \n",
        "                    low = distance\n",
        "                    index = nextc\n",
        "            coordinates.insert(coord+1, coordinates.pop(index))\n",
        "        coordinates.reverse() # reverse list since it always almost ends up at the correct finishing point\n",
        "  "
      ],
      "execution_count": null,
      "outputs": []
    },
    {
      "cell_type": "code",
      "metadata": {
        "id": "nRB_X3FdD1aO"
      },
      "source": [
        "def findFar(loop):\n",
        "  large = 0\n",
        "  for iter in range(0,loop) :\n",
        "    for i in range(0, len(coordinates)-1):\n",
        "        if haversine(coordinates[i][0],coordinates[i][1],coordinates[i+1][0],coordinates[i+1][1]) > large:\n",
        "            large = haversine(coordinates[i][0],coordinates[i][1],coordinates[i+1][0],coordinates[i+1][1])\n",
        "            index = i\n",
        "    coordinates.insert(0, coordinates.pop(index))"
      ],
      "execution_count": null,
      "outputs": []
    },
    {
      "cell_type": "code",
      "metadata": {
        "id": "CC3Z5dnbMpOt"
      },
      "source": [
        "def get_center():\n",
        "  max_lat = -91.0\n",
        "  max_long = -181.0\n",
        "  min_lat = 91.0\n",
        "  min_long = 181.0\n",
        "  for location in coordinates:\n",
        "    max_lat = location[0] if location[0] >= max_lat else max_lat \n",
        "    max_long = location[1] if location[1] >= max_long else max_long\n",
        "    min_lat = location[0] if location[0] <= min_lat else min_lat \n",
        "    min_long = location[1] if location[1] <= min_long else min_long\n",
        "  return [(min_lat+max_lat)/2.0,(min_long+max_long)/2.0]"
      ],
      "execution_count": null,
      "outputs": []
    },
    {
      "cell_type": "code",
      "metadata": {
        "id": "9mZSN05wpUhP"
      },
      "source": [
        "# map reference frame, plot path\n",
        "findClose(2) # sort twice\n",
        "#findFar(2) #  Adjust Accordingly\n",
        "LDN_COORDINATES = get_center()\n",
        "myMap = folium.Map(location=LDN_COORDINATES, zoom_start=16, tiles = 'https://server.arcgisonline.com/ArcGIS/rest/services/World_Imagery/MapServer/tile/{z}/{y}/{x}', attr = 'Esri')\n",
        "folium.PolyLine(coordinates,line_opacity = 0.5, weight = 4).add_to(myMap)"
      ],
      "execution_count": null,
      "outputs": []
    },
    {
      "cell_type": "code",
      "metadata": {
        "id": "tXMdjncILlyO"
      },
      "source": [
        "colors = [ 'red', 'blue', 'green', 'orange', 'purple', 'beige', 'gray', 'pink', 'black', 'lightgreen', 'darkblue', 'lightblue', 'lightred', 'darkpurple', 'darkred', 'cadetblue', 'lightgray', 'darkgreen' ]\n",
        "\n",
        "# hacky solution to plot creeps\n",
        "for x in range(0, len(creeps)): \n",
        "    globals()['creep%s' % x] = folium.FeatureGroup(name = 'Creep '+ str(x))\n",
        "    for creep_loc in creeps[x][1]: \n",
        "      bssid = creeps[x][0]\n",
        "      first_seen = creeps[x][2][0]\n",
        "      last_seen = creeps[x][2][1]\n",
        "      macvendor = f\"MAC Vendor: {creeps[x][3]}\" if creeps[x][3] != None and len(creeps[x][3]) != 0  else ''\n",
        "      ssid = creeps[x][5] if creeps[x][5] != None and len(creeps[x][5]) != 0 else '--'\n",
        "      if ssid != '--':\n",
        "        folium.Marker(location=creep_loc, tooltip=f\"SSID: {ssid}\", popup=f\"SSID: {ssid}\\nBSSID: {bssid}\\nFirst Seen: {first_seen}\\nLast Seen: {last_seen}\\n{macvendor}\", icon=folium.Icon(color=colors[x % len(colors)], icon='user-secret', prefix='fa')).add_to(globals()['creep%s' % x])  \n",
        "      else:\n",
        "        folium.Marker(location=creep_loc, tooltip=f\"BSSID: {bssid}\", popup=f\"BSSID: {bssid}\\nFirst Seen: {first_seen}\\nLast Seen: {last_seen}\\n{macvendor}\", icon=folium.Icon(color=colors[x % len(colors)], icon='user-secret', prefix='fa')).add_to(globals()['creep%s' % x])  \n",
        "    globals()['creep%s' % x].add_to(myMap)\n",
        "\n",
        "# add toggle for creeps\n",
        "folium.LayerControl().add_to(myMap)\n",
        "if os.path.exists('./gdrive/MyDrive/Creep Detector/index.html'):\n",
        "  os.remove('./gdrive/MyDrive/Creep-Detector/index.html')\n",
        "myMap.save('./gdrive/MyDrive/Creep-Detector/index.html')\n",
        "display(myMap)"
      ],
      "execution_count": null,
      "outputs": []
    },
    {
      "cell_type": "code",
      "metadata": {
        "id": "TEjkThxqowZX"
      },
      "source": [
        "# Create A Globally Accessible URL\n",
        "print(eval_js(\"google.colab.kernel.proxyPort(8000)\"))"
      ],
      "execution_count": null,
      "outputs": []
    },
    {
      "cell_type": "code",
      "metadata": {
        "id": "bC0VJQfjqMvh"
      },
      "source": [
        "# Host A Python Server\n",
        "!python3 -m http.server 8000 --directory ./gdrive/MyDrive/Creep-Detector/"
      ],
      "execution_count": null,
      "outputs": []
    }
  ]
}